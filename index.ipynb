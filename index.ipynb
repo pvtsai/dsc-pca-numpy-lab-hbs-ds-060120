{
 "cells": [
  {
   "cell_type": "markdown",
   "metadata": {},
   "source": [
    "# Performing Principal Component Analysis (PCA) - Lab\n",
    "\n",
    "## Introduction\n",
    "\n",
    "Now that you have a high-level overview of PCA, as well as some of the details of the algorithm itself, it's time to practice implementing PCA on your own using the NumPy package. \n",
    "\n",
    "## Objectives\n",
    "\n",
    "You will be able to:\n",
    "    \n",
    "* Implement PCA from scratch using NumPy"
   ]
  },
  {
   "cell_type": "markdown",
   "metadata": {},
   "source": [
    "## Import the data\n",
    "\n",
    "- Import the data stored in the file `'foodusa.csv'` (set `index_col=0`)\n",
    "- Print the first five rows of the DataFrame "
   ]
  },
  {
   "cell_type": "code",
   "execution_count": 2,
   "metadata": {},
   "outputs": [],
   "source": [
    "import pandas as pd\n",
    "data = pd.read_csv('foodusa.csv',index_col=0)\n",
    "\n"
   ]
  },
  {
   "cell_type": "code",
   "execution_count": 3,
   "metadata": {},
   "outputs": [
    {
     "data": {
      "text/html": [
       "<div>\n",
       "<style scoped>\n",
       "    .dataframe tbody tr th:only-of-type {\n",
       "        vertical-align: middle;\n",
       "    }\n",
       "\n",
       "    .dataframe tbody tr th {\n",
       "        vertical-align: top;\n",
       "    }\n",
       "\n",
       "    .dataframe thead th {\n",
       "        text-align: right;\n",
       "    }\n",
       "</style>\n",
       "<table border=\"1\" class=\"dataframe\">\n",
       "  <thead>\n",
       "    <tr style=\"text-align: right;\">\n",
       "      <th></th>\n",
       "      <th>Bread</th>\n",
       "      <th>Burger</th>\n",
       "      <th>Milk</th>\n",
       "      <th>Oranges</th>\n",
       "      <th>Tomatoes</th>\n",
       "    </tr>\n",
       "    <tr>\n",
       "      <th>City</th>\n",
       "      <th></th>\n",
       "      <th></th>\n",
       "      <th></th>\n",
       "      <th></th>\n",
       "      <th></th>\n",
       "    </tr>\n",
       "  </thead>\n",
       "  <tbody>\n",
       "    <tr>\n",
       "      <td>ATLANTA</td>\n",
       "      <td>24.5</td>\n",
       "      <td>94.5</td>\n",
       "      <td>73.9</td>\n",
       "      <td>80.1</td>\n",
       "      <td>41.6</td>\n",
       "    </tr>\n",
       "    <tr>\n",
       "      <td>BALTIMORE</td>\n",
       "      <td>26.5</td>\n",
       "      <td>91.0</td>\n",
       "      <td>67.5</td>\n",
       "      <td>74.6</td>\n",
       "      <td>53.3</td>\n",
       "    </tr>\n",
       "    <tr>\n",
       "      <td>BOSTON</td>\n",
       "      <td>29.7</td>\n",
       "      <td>100.8</td>\n",
       "      <td>61.4</td>\n",
       "      <td>104.0</td>\n",
       "      <td>59.6</td>\n",
       "    </tr>\n",
       "    <tr>\n",
       "      <td>BUFFALO</td>\n",
       "      <td>22.8</td>\n",
       "      <td>86.6</td>\n",
       "      <td>65.3</td>\n",
       "      <td>118.4</td>\n",
       "      <td>51.2</td>\n",
       "    </tr>\n",
       "    <tr>\n",
       "      <td>CHICAGO</td>\n",
       "      <td>26.7</td>\n",
       "      <td>86.7</td>\n",
       "      <td>62.7</td>\n",
       "      <td>105.9</td>\n",
       "      <td>51.2</td>\n",
       "    </tr>\n",
       "    <tr>\n",
       "      <td>CINCINNATI</td>\n",
       "      <td>25.3</td>\n",
       "      <td>102.5</td>\n",
       "      <td>63.3</td>\n",
       "      <td>99.3</td>\n",
       "      <td>45.6</td>\n",
       "    </tr>\n",
       "    <tr>\n",
       "      <td>CLEVELAND</td>\n",
       "      <td>22.8</td>\n",
       "      <td>88.8</td>\n",
       "      <td>52.4</td>\n",
       "      <td>110.9</td>\n",
       "      <td>46.8</td>\n",
       "    </tr>\n",
       "    <tr>\n",
       "      <td>DALLAS</td>\n",
       "      <td>23.3</td>\n",
       "      <td>85.5</td>\n",
       "      <td>62.5</td>\n",
       "      <td>117.9</td>\n",
       "      <td>41.8</td>\n",
       "    </tr>\n",
       "    <tr>\n",
       "      <td>DETROIT</td>\n",
       "      <td>24.1</td>\n",
       "      <td>93.7</td>\n",
       "      <td>51.5</td>\n",
       "      <td>109.7</td>\n",
       "      <td>52.4</td>\n",
       "    </tr>\n",
       "    <tr>\n",
       "      <td>HONALULU</td>\n",
       "      <td>29.3</td>\n",
       "      <td>105.9</td>\n",
       "      <td>80.2</td>\n",
       "      <td>133.2</td>\n",
       "      <td>61.7</td>\n",
       "    </tr>\n",
       "    <tr>\n",
       "      <td>HOUSTON</td>\n",
       "      <td>22.3</td>\n",
       "      <td>83.6</td>\n",
       "      <td>67.8</td>\n",
       "      <td>108.6</td>\n",
       "      <td>42.4</td>\n",
       "    </tr>\n",
       "    <tr>\n",
       "      <td>KANSAS CITY</td>\n",
       "      <td>26.1</td>\n",
       "      <td>88.9</td>\n",
       "      <td>65.4</td>\n",
       "      <td>100.9</td>\n",
       "      <td>43.2</td>\n",
       "    </tr>\n",
       "    <tr>\n",
       "      <td>LOS ANGELES</td>\n",
       "      <td>26.9</td>\n",
       "      <td>89.3</td>\n",
       "      <td>56.2</td>\n",
       "      <td>82.7</td>\n",
       "      <td>38.4</td>\n",
       "    </tr>\n",
       "    <tr>\n",
       "      <td>MILWAUKEE</td>\n",
       "      <td>20.3</td>\n",
       "      <td>89.6</td>\n",
       "      <td>53.8</td>\n",
       "      <td>111.8</td>\n",
       "      <td>53.9</td>\n",
       "    </tr>\n",
       "    <tr>\n",
       "      <td>MINNEAPOLIS</td>\n",
       "      <td>24.6</td>\n",
       "      <td>92.2</td>\n",
       "      <td>51.9</td>\n",
       "      <td>106.0</td>\n",
       "      <td>50.7</td>\n",
       "    </tr>\n",
       "    <tr>\n",
       "      <td>NEW YORK</td>\n",
       "      <td>30.8</td>\n",
       "      <td>110.7</td>\n",
       "      <td>66.0</td>\n",
       "      <td>107.3</td>\n",
       "      <td>62.6</td>\n",
       "    </tr>\n",
       "    <tr>\n",
       "      <td>PHILADELPHIA</td>\n",
       "      <td>24.5</td>\n",
       "      <td>92.3</td>\n",
       "      <td>66.7</td>\n",
       "      <td>98.0</td>\n",
       "      <td>61.7</td>\n",
       "    </tr>\n",
       "    <tr>\n",
       "      <td>PITTSBURGH</td>\n",
       "      <td>26.2</td>\n",
       "      <td>95.4</td>\n",
       "      <td>60.2</td>\n",
       "      <td>117.1</td>\n",
       "      <td>49.3</td>\n",
       "    </tr>\n",
       "    <tr>\n",
       "      <td>ST LOUIS</td>\n",
       "      <td>26.5</td>\n",
       "      <td>92.4</td>\n",
       "      <td>60.8</td>\n",
       "      <td>115.1</td>\n",
       "      <td>46.2</td>\n",
       "    </tr>\n",
       "    <tr>\n",
       "      <td>SAN DIEGO</td>\n",
       "      <td>25.5</td>\n",
       "      <td>83.7</td>\n",
       "      <td>57.0</td>\n",
       "      <td>92.8</td>\n",
       "      <td>35.4</td>\n",
       "    </tr>\n",
       "    <tr>\n",
       "      <td>SAN FRANCISCO</td>\n",
       "      <td>26.3</td>\n",
       "      <td>87.1</td>\n",
       "      <td>58.3</td>\n",
       "      <td>101.8</td>\n",
       "      <td>41.5</td>\n",
       "    </tr>\n",
       "    <tr>\n",
       "      <td>SEATTLE</td>\n",
       "      <td>22.5</td>\n",
       "      <td>77.7</td>\n",
       "      <td>62.0</td>\n",
       "      <td>91.1</td>\n",
       "      <td>44.9</td>\n",
       "    </tr>\n",
       "    <tr>\n",
       "      <td>WASHINGTON DC</td>\n",
       "      <td>24.2</td>\n",
       "      <td>93.8</td>\n",
       "      <td>66.0</td>\n",
       "      <td>81.6</td>\n",
       "      <td>46.2</td>\n",
       "    </tr>\n",
       "  </tbody>\n",
       "</table>\n",
       "</div>"
      ],
      "text/plain": [
       "               Bread  Burger  Milk  Oranges  Tomatoes\n",
       "City                                                 \n",
       "ATLANTA         24.5    94.5  73.9     80.1      41.6\n",
       "BALTIMORE       26.5    91.0  67.5     74.6      53.3\n",
       "BOSTON          29.7   100.8  61.4    104.0      59.6\n",
       "BUFFALO         22.8    86.6  65.3    118.4      51.2\n",
       "CHICAGO         26.7    86.7  62.7    105.9      51.2\n",
       "CINCINNATI      25.3   102.5  63.3     99.3      45.6\n",
       "CLEVELAND       22.8    88.8  52.4    110.9      46.8\n",
       "DALLAS          23.3    85.5  62.5    117.9      41.8\n",
       "DETROIT         24.1    93.7  51.5    109.7      52.4\n",
       "HONALULU        29.3   105.9  80.2    133.2      61.7\n",
       "HOUSTON         22.3    83.6  67.8    108.6      42.4\n",
       "KANSAS CITY     26.1    88.9  65.4    100.9      43.2\n",
       "LOS ANGELES     26.9    89.3  56.2     82.7      38.4\n",
       "MILWAUKEE       20.3    89.6  53.8    111.8      53.9\n",
       "MINNEAPOLIS     24.6    92.2  51.9    106.0      50.7\n",
       "NEW YORK        30.8   110.7  66.0    107.3      62.6\n",
       "PHILADELPHIA    24.5    92.3  66.7     98.0      61.7\n",
       "PITTSBURGH      26.2    95.4  60.2    117.1      49.3\n",
       "ST LOUIS        26.5    92.4  60.8    115.1      46.2\n",
       "SAN DIEGO       25.5    83.7  57.0     92.8      35.4\n",
       "SAN FRANCISCO   26.3    87.1  58.3    101.8      41.5\n",
       "SEATTLE         22.5    77.7  62.0     91.1      44.9\n",
       "WASHINGTON DC   24.2    93.8  66.0     81.6      46.2"
      ]
     },
     "execution_count": 3,
     "metadata": {},
     "output_type": "execute_result"
    }
   ],
   "source": [
    "data"
   ]
  },
  {
   "cell_type": "code",
   "execution_count": null,
   "metadata": {},
   "outputs": [],
   "source": []
  },
  {
   "cell_type": "markdown",
   "metadata": {},
   "source": [
    "## Normalize the data\n",
    "\n",
    "Next, normalize your data by subtracting the mean from each of the columns."
   ]
  },
  {
   "cell_type": "code",
   "execution_count": 4,
   "metadata": {},
   "outputs": [
    {
     "data": {
      "text/plain": [
       "Bread        25.291304\n",
       "Burger       91.856522\n",
       "Milk         62.295652\n",
       "Oranges     102.991304\n",
       "Tomatoes     48.765217\n",
       "dtype: float64"
      ]
     },
     "execution_count": 4,
     "metadata": {},
     "output_type": "execute_result"
    }
   ],
   "source": [
    "data.mean()"
   ]
  },
  {
   "cell_type": "code",
   "execution_count": 5,
   "metadata": {},
   "outputs": [
    {
     "data": {
      "text/html": [
       "<div>\n",
       "<style scoped>\n",
       "    .dataframe tbody tr th:only-of-type {\n",
       "        vertical-align: middle;\n",
       "    }\n",
       "\n",
       "    .dataframe tbody tr th {\n",
       "        vertical-align: top;\n",
       "    }\n",
       "\n",
       "    .dataframe thead th {\n",
       "        text-align: right;\n",
       "    }\n",
       "</style>\n",
       "<table border=\"1\" class=\"dataframe\">\n",
       "  <thead>\n",
       "    <tr style=\"text-align: right;\">\n",
       "      <th></th>\n",
       "      <th>Bread</th>\n",
       "      <th>Burger</th>\n",
       "      <th>Milk</th>\n",
       "      <th>Oranges</th>\n",
       "      <th>Tomatoes</th>\n",
       "    </tr>\n",
       "    <tr>\n",
       "      <th>City</th>\n",
       "      <th></th>\n",
       "      <th></th>\n",
       "      <th></th>\n",
       "      <th></th>\n",
       "      <th></th>\n",
       "    </tr>\n",
       "  </thead>\n",
       "  <tbody>\n",
       "    <tr>\n",
       "      <td>ATLANTA</td>\n",
       "      <td>-0.791304</td>\n",
       "      <td>2.643478</td>\n",
       "      <td>11.604348</td>\n",
       "      <td>-22.891304</td>\n",
       "      <td>-7.165217</td>\n",
       "    </tr>\n",
       "    <tr>\n",
       "      <td>BALTIMORE</td>\n",
       "      <td>1.208696</td>\n",
       "      <td>-0.856522</td>\n",
       "      <td>5.204348</td>\n",
       "      <td>-28.391304</td>\n",
       "      <td>4.534783</td>\n",
       "    </tr>\n",
       "    <tr>\n",
       "      <td>BOSTON</td>\n",
       "      <td>4.408696</td>\n",
       "      <td>8.943478</td>\n",
       "      <td>-0.895652</td>\n",
       "      <td>1.008696</td>\n",
       "      <td>10.834783</td>\n",
       "    </tr>\n",
       "    <tr>\n",
       "      <td>BUFFALO</td>\n",
       "      <td>-2.491304</td>\n",
       "      <td>-5.256522</td>\n",
       "      <td>3.004348</td>\n",
       "      <td>15.408696</td>\n",
       "      <td>2.434783</td>\n",
       "    </tr>\n",
       "    <tr>\n",
       "      <td>CHICAGO</td>\n",
       "      <td>1.408696</td>\n",
       "      <td>-5.156522</td>\n",
       "      <td>0.404348</td>\n",
       "      <td>2.908696</td>\n",
       "      <td>2.434783</td>\n",
       "    </tr>\n",
       "  </tbody>\n",
       "</table>\n",
       "</div>"
      ],
      "text/plain": [
       "              Bread    Burger       Milk    Oranges   Tomatoes\n",
       "City                                                          \n",
       "ATLANTA   -0.791304  2.643478  11.604348 -22.891304  -7.165217\n",
       "BALTIMORE  1.208696 -0.856522   5.204348 -28.391304   4.534783\n",
       "BOSTON     4.408696  8.943478  -0.895652   1.008696  10.834783\n",
       "BUFFALO   -2.491304 -5.256522   3.004348  15.408696   2.434783\n",
       "CHICAGO    1.408696 -5.156522   0.404348   2.908696   2.434783"
      ]
     },
     "execution_count": 5,
     "metadata": {},
     "output_type": "execute_result"
    }
   ],
   "source": [
    "data_nor = data - data.mean()\n",
    "data_nor.head()"
   ]
  },
  {
   "cell_type": "markdown",
   "metadata": {},
   "source": [
    "## Calculate the covariance matrix\n",
    "\n",
    "The next step is to calculate the covariance matrix for your normalized data. "
   ]
  },
  {
   "cell_type": "code",
   "execution_count": 9,
   "metadata": {},
   "outputs": [],
   "source": [
    "import numpy as np"
   ]
  },
  {
   "cell_type": "code",
   "execution_count": 10,
   "metadata": {},
   "outputs": [
    {
     "data": {
      "text/plain": [
       "array([[  6.2844664 ,  12.91096838,   5.71905138,   1.31037549,\n",
       "          7.28513834],\n",
       "       [ 12.91096838,  57.07711462,  17.50752964,  22.69187747,\n",
       "         36.29478261],\n",
       "       [  5.71905138,  17.50752964,  48.30588933,  -0.27503953,\n",
       "         13.44347826],\n",
       "       [  1.31037549,  22.69187747,  -0.27503953, 202.75628458,\n",
       "         38.76241107],\n",
       "       [  7.28513834,  36.29478261,  13.44347826,  38.76241107,\n",
       "         57.80055336]])"
      ]
     },
     "execution_count": 10,
     "metadata": {},
     "output_type": "execute_result"
    }
   ],
   "source": [
    "cov_mat = np.cov([data_nor['Bread'], data_nor['Burger'], data_nor['Milk'], data_nor['Oranges'], data_nor['Tomatoes']])\n",
    "cov_mat"
   ]
  },
  {
   "cell_type": "markdown",
   "metadata": {},
   "source": [
    "## Calculate the eigenvectors\n",
    "\n",
    "Next, calculate the eigenvectors and eigenvalues for your covariance matrix. "
   ]
  },
  {
   "cell_type": "code",
   "execution_count": 15,
   "metadata": {},
   "outputs": [],
   "source": [
    "import numpy as np\n",
    "eig_values, eig_vectors = np.linalg.eig(cov_mat)\n"
   ]
  },
  {
   "cell_type": "code",
   "execution_count": 16,
   "metadata": {},
   "outputs": [
    {
     "data": {
      "text/plain": [
       "array([218.99867893,  91.72316894,   3.02922934,  20.81054128,\n",
       "        37.66268981])"
      ]
     },
     "execution_count": 16,
     "metadata": {},
     "output_type": "execute_result"
    }
   ],
   "source": [
    "eig_values"
   ]
  },
  {
   "cell_type": "code",
   "execution_count": 17,
   "metadata": {},
   "outputs": [
    {
     "data": {
      "text/plain": [
       "array([[-0.02848905, -0.16532108, -0.96716354, -0.18972574,  0.02135748],\n",
       "       [-0.2001224 , -0.63218494,  0.24877074, -0.65862454,  0.25420475],\n",
       "       [-0.0416723 , -0.44215032,  0.03606094,  0.10765906, -0.88874949],\n",
       "       [-0.93885906,  0.31435473, -0.01521357, -0.06904699, -0.12135003],\n",
       "       [-0.27558389, -0.52791603, -0.03429221,  0.71684022,  0.36100184]])"
      ]
     },
     "execution_count": 17,
     "metadata": {},
     "output_type": "execute_result"
    }
   ],
   "source": [
    "eig_vectors"
   ]
  },
  {
   "cell_type": "markdown",
   "metadata": {},
   "source": [
    "## Sort the eigenvectors \n",
    "\n",
    "Great! Now that you have the eigenvectors and their associated eigenvalues, sort the eigenvectors based on their eigenvalues to determine primary components!"
   ]
  },
  {
   "cell_type": "code",
   "execution_count": 19,
   "metadata": {},
   "outputs": [
    {
     "data": {
      "text/plain": [
       "array([[-0.02848905, -0.16532108,  0.02135748, -0.18972574, -0.96716354],\n",
       "       [-0.2001224 , -0.63218494,  0.25420475, -0.65862454,  0.24877074],\n",
       "       [-0.0416723 , -0.44215032, -0.88874949,  0.10765906,  0.03606094],\n",
       "       [-0.93885906,  0.31435473, -0.12135003, -0.06904699, -0.01521357],\n",
       "       [-0.27558389, -0.52791603,  0.36100184,  0.71684022, -0.03429221]])"
      ]
     },
     "execution_count": 19,
     "metadata": {},
     "output_type": "execute_result"
    }
   ],
   "source": [
    "# Get the index values of the sorted eigenvalues\n",
    "e_indices = np.argsort(eig_values)[::-1] \n",
    "\n",
    "# Sort \n",
    "eigenvectors_sorted = eig_vectors[:, e_indices]\n",
    "eigenvectors_sorted"
   ]
  },
  {
   "cell_type": "markdown",
   "metadata": {},
   "source": [
    "## Reprojecting the data\n",
    "\n",
    "Finally, reproject the dataset using your eigenvectors. Reproject this dataset down to 2 dimensions."
   ]
  },
  {
   "cell_type": "code",
   "execution_count": 20,
   "metadata": {},
   "outputs": [
    {
     "data": {
      "text/plain": [
       "array([[ 11.10636706,  14.73134932, -14.17203836,   1.85530932,\n",
       "        -13.15196933],\n",
       "       [  1.21900301,  21.44989411,  -7.19007196,  -0.14425049,\n",
       "        -18.50968283],\n",
       "       [-12.29365615,  -4.73286484,  -2.84276415,  -1.4535148 ,\n",
       "         -5.90817824],\n",
       "       [ -4.27410508,  -4.95746329,   1.5045649 ,  -0.77897224,\n",
       "         15.50821919],\n",
       "       [ -2.08570219,   1.77071529,   2.26283823,  -3.2304897 ,\n",
       "          4.48154292]])"
      ]
     },
     "execution_count": 20,
     "metadata": {},
     "output_type": "execute_result"
    }
   ],
   "source": [
    "transformed = eigenvectors_sorted.dot(data_nor.T).T\n",
    "transformed[:5]"
   ]
  },
  {
   "cell_type": "code",
   "execution_count": 21,
   "metadata": {},
   "outputs": [
    {
     "data": {
      "text/plain": [
       "array([[-0.02848905, -0.16532108,  0.02135748, -0.18972574, -0.96716354],\n",
       "       [-0.2001224 , -0.63218494,  0.25420475, -0.65862454,  0.24877074]])"
      ]
     },
     "execution_count": 21,
     "metadata": {},
     "output_type": "execute_result"
    }
   ],
   "source": [
    "eigenvectors_sorted[:2]\n"
   ]
  },
  {
   "cell_type": "markdown",
   "metadata": {},
   "source": [
    "## Summary\n",
    "\n",
    "Well done! You've now coded PCA on your own using NumPy! With that, it's time to look at further applications of PCA."
   ]
  }
 ],
 "metadata": {
  "kernelspec": {
   "display_name": "Python 3",
   "language": "python",
   "name": "python3"
  },
  "language_info": {
   "codemirror_mode": {
    "name": "ipython",
    "version": 3
   },
   "file_extension": ".py",
   "mimetype": "text/x-python",
   "name": "python",
   "nbconvert_exporter": "python",
   "pygments_lexer": "ipython3",
   "version": "3.6.9"
  }
 },
 "nbformat": 4,
 "nbformat_minor": 2
}
